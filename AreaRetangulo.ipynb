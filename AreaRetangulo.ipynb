{
  "nbformat": 4,
  "nbformat_minor": 0,
  "metadata": {
    "colab": {
      "provenance": [],
      "authorship_tag": "ABX9TyMehI6t05AYBmjZgQB91p4Q",
      "include_colab_link": true
    },
    "kernelspec": {
      "name": "python3",
      "display_name": "Python 3"
    },
    "language_info": {
      "name": "python"
    }
  },
  "cells": [
    {
      "cell_type": "markdown",
      "metadata": {
        "id": "view-in-github",
        "colab_type": "text"
      },
      "source": [
        "<a href=\"https://colab.research.google.com/github/raquelvcampos/Python_Iniciante/blob/python/AreaRetangulo.ipynb\" target=\"_parent\"><img src=\"https://colab.research.google.com/assets/colab-badge.svg\" alt=\"Open In Colab\"/></a>"
      ]
    },
    {
      "cell_type": "code",
      "execution_count": null,
      "metadata": {
        "id": "DdKlN8-B4Ckk"
      },
      "outputs": [],
      "source": [
        "#Calcular área de um retângulo\n",
        "\n",
        "#declarar variavel da base\n",
        "base = input(\"Informe o valor da base:\")\n",
        "base = float(base)\n",
        "\n",
        "#declarar variavel da altura\n",
        "altura = input(\"Informe o valor da altura:\")\n",
        "altura = float(altura)\n",
        "\n",
        "#operação\n",
        "area = base*altura\n",
        "#resultado\n",
        "print(\"A área do retângulo é:\" , area)"
      ]
    }
  ]
}