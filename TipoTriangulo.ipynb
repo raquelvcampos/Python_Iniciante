{
  "nbformat": 4,
  "nbformat_minor": 0,
  "metadata": {
    "colab": {
      "provenance": [],
      "authorship_tag": "ABX9TyNOedXf0ayAbCiZX7E/vtJI",
      "include_colab_link": true
    },
    "kernelspec": {
      "name": "python3",
      "display_name": "Python 3"
    },
    "language_info": {
      "name": "python"
    }
  },
  "cells": [
    {
      "cell_type": "markdown",
      "metadata": {
        "id": "view-in-github",
        "colab_type": "text"
      },
      "source": [
        "<a href=\"https://colab.research.google.com/github/raquelvcampos/Python_Iniciante/blob/python/TipoTriangulo.ipynb\" target=\"_parent\"><img src=\"https://colab.research.google.com/assets/colab-badge.svg\" alt=\"Open In Colab\"/></a>"
      ]
    },
    {
      "cell_type": "code",
      "execution_count": 2,
      "metadata": {
        "colab": {
          "base_uri": "https://localhost:8080/"
        },
        "id": "BU3sJW1ulJ1u",
        "outputId": "4c0bc6ad-f233-41ab-e5ff-4f7ec4370e3a"
      },
      "outputs": [
        {
          "output_type": "stream",
          "name": "stdout",
          "text": [
            "informe o valor do primeiro lado= 5\n",
            "informe o valor do segundo lado= 5\n",
            "informe o valor do terceiro lado= 3\n",
            "Triângulo isósceles\n"
          ]
        }
      ],
      "source": [
        "#Programa que informa qual o tipo de triangulo, a partir do valor de cada lado\n",
        "\n",
        "#Declaração de variaveis\n",
        "x1 = float(input('informe o valor do primeiro lado='))\n",
        "x2 = float(input('informe o valor do segundo lado='))\n",
        "x3 = float(input('informe o valor do terceiro lado='))\n",
        "\n",
        "#lógica\n",
        "if (x1 == x2 == x3):\n",
        "    print('Triângulo equilátero')\n",
        "elif (x1 == x2 != x3):\n",
        "    print('Triângulo isósceles')\n",
        "elif (x1 != x2 == x3):\n",
        "    print('Triângulo isósceles')\n",
        "elif (x1 != x2 != x3):\n",
        "    print('Triângulo escaleno')\n"
      ]
    }
  ]
}