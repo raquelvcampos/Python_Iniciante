{
  "nbformat": 4,
  "nbformat_minor": 0,
  "metadata": {
    "colab": {
      "provenance": [],
      "authorship_tag": "ABX9TyMtIrIoPNp2Zr9JYuC4mk6l",
      "include_colab_link": true
    },
    "kernelspec": {
      "name": "python3",
      "display_name": "Python 3"
    },
    "language_info": {
      "name": "python"
    }
  },
  "cells": [
    {
      "cell_type": "markdown",
      "metadata": {
        "id": "view-in-github",
        "colab_type": "text"
      },
      "source": [
        "<a href=\"https://colab.research.google.com/github/raquelvcampos/PYTHONprogram/blob/python/medianotas.ipynb\" target=\"_parent\"><img src=\"https://colab.research.google.com/assets/colab-badge.svg\" alt=\"Open In Colab\"/></a>"
      ]
    },
    {
      "cell_type": "code",
      "execution_count": 1,
      "metadata": {
        "id": "JZw1HcyeNYsC"
      },
      "outputs": [],
      "source": [
        "\n",
        "# CALCULAR MÉDIA DO ALUNO (6) E MOSTRAR STATUS( APROVADO OU REPROVADO )"
      ]
    },
    {
      "cell_type": "code",
      "source": [
        "print(\"Bem-vindo!\")"
      ],
      "metadata": {
        "colab": {
          "base_uri": "https://localhost:8080/"
        },
        "id": "OReYMAOZNqXs",
        "outputId": "6d0d29d0-fb04-4321-8599-96fb34b0591d"
      },
      "execution_count": 2,
      "outputs": [
        {
          "output_type": "stream",
          "name": "stdout",
          "text": [
            "Bem-vindo!\n"
          ]
        }
      ]
    },
    {
      "cell_type": "code",
      "source": [
        "nota1 = float(input(\"Digite a primeira nota: \"))\n",
        "nota2 = float(input(\"Digite a segunda nota: \"))\n",
        "nota3 = float(input(\"Digite a terceira nota: \"))\n",
        "pontos = float( nota1 + nota2 + nota3 )\n",
        "media = float( pontos / 3)\n",
        "\n",
        "if media >= 6:\n",
        "    print(\"Sua média é:\", media , \", você está APROVADO.\")\n",
        "else:\n",
        "    print(\"Sua média é:\", media, \", você está REPROVADO.\")\n"
      ],
      "metadata": {
        "colab": {
          "base_uri": "https://localhost:8080/"
        },
        "id": "LNrsM9eeNsGE",
        "outputId": "01b705ad-0a43-4641-966c-746a6f7fcddb"
      },
      "execution_count": 4,
      "outputs": [
        {
          "output_type": "stream",
          "name": "stdout",
          "text": [
            "Digite a primeira nota: 5\n",
            "Digite a segunda nota: 5\n",
            "Digite a terceira nota: 5\n",
            "Sua média é: 5.0 , você está REPROVADO.\n"
          ]
        }
      ]
    },
    {
      "cell_type": "code",
      "source": [],
      "metadata": {
        "id": "UWvckuCWNuTb"
      },
      "execution_count": null,
      "outputs": []
    }
  ]
}